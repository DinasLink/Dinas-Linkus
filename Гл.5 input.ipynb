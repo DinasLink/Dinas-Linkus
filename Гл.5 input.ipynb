{
 "cells": [
  {
   "cell_type": "code",
   "execution_count": 9,
   "id": "11bc3c5f",
   "metadata": {},
   "outputs": [
    {
     "name": "stdout",
     "output_type": "stream",
     "text": [
      "Введите свое имя:\n",
      "D\n",
      "Привет, D ,как дела?\n"
     ]
    }
   ],
   "source": [
    "print (\"Введите свое имя:\")\n",
    "somebody=input()\n",
    "print (\"Привет,\",somebody, \",как дела?\")\n"
   ]
  },
  {
   "cell_type": "code",
   "execution_count": 2,
   "id": "aeec0121",
   "metadata": {},
   "outputs": [
    {
     "name": "stdout",
     "output_type": "stream",
     "text": [
      "менязовутДинас"
     ]
    }
   ],
   "source": [
    "print(\"меня\", end=\"\")\n",
    "print(\"зовут\", end=\"\")\n",
    "print(\"Динас\", end=\"\")"
   ]
  },
  {
   "cell_type": "code",
   "execution_count": 3,
   "id": "f49b8692",
   "metadata": {},
   "outputs": [
    {
     "name": "stdout",
     "output_type": "stream",
     "text": [
      "эта программа...\n",
      "fgfgfgf\n",
      "56\n",
      "lll,13.333333333333334\n",
      ",hhhh.\n"
     ]
    }
   ],
   "source": [
    "print(\"эта программа...\")\n",
    "print(\"fgfgfgf\")\n",
    "F = float (input())\n",
    "C=5/9*(F-32)\n",
    "print(\"lll,\", end=\"\")\n",
    "print (C)\n",
    "print(\",hhhh.\")"
   ]
  },
  {
   "cell_type": "code",
   "execution_count": 13,
   "id": "60d2fe1a",
   "metadata": {},
   "outputs": [
    {
     "name": "stdout",
     "output_type": "stream",
     "text": [
      "введите ваше имя:\n",
      "D\n",
      "введите вашу фамилию:\n",
      "L\n",
      "привет D как дела L\n"
     ]
    }
   ],
   "source": [
    "print (\"введите ваше имя:\")\n",
    "Myname=input()\n",
    "print (\"введите вашу фамилию:\")\n",
    "Mysirname=input()\n",
    "print(\"привет\", Myname, \"как дела\", Mysirname)"
   ]
  },
  {
   "cell_type": "code",
   "execution_count": 19,
   "id": "a59d7e70",
   "metadata": {},
   "outputs": [
    {
     "name": "stdout",
     "output_type": "stream",
     "text": [
      "введите длину комнаты:\n",
      "6\n",
      "введите ширину комнаты:\n",
      "7\n"
     ]
    }
   ],
   "source": [
    "print (\"введите длину комнаты:\")\n",
    "d = float(input())\n",
    "print (\"введите ширину комнаты:\")\n",
    "s=float(input())\n"
   ]
  },
  {
   "cell_type": "code",
   "execution_count": 21,
   "id": "2ae30408",
   "metadata": {},
   "outputs": [
    {
     "name": "stdout",
     "output_type": "stream",
     "text": [
      "введите длину комнаты:\n",
      "5\n",
      "введите ширину комнаты:\n",
      "6\n",
      "Площадь комнаты,30.0\n"
     ]
    }
   ],
   "source": [
    "print (\"введите длину комнаты:\")\n",
    "d=float(input())\n",
    "print (\"введите ширину комнаты:\")\n",
    "s=float(input())\n",
    "P=d*s\n",
    "print (\"Площадь комнаты,\", end=\"\")\n",
    "print(P)"
   ]
  },
  {
   "cell_type": "code",
   "execution_count": 3,
   "id": "ea48bc07",
   "metadata": {},
   "outputs": [
    {
     "name": "stdout",
     "output_type": "stream",
     "text": [
      "введите длину комнаты:\n",
      "5\n",
      "введите ширину комнаты:\n",
      "6\n",
      "Площадь комнаты,30.0 м.,т.е. 300000.0 cm\n",
      "Стоимость ковра составляет: 300.0 dolars\n"
     ]
    }
   ],
   "source": [
    "print (\"введите длину комнаты:\")\n",
    "d=float(input())\n",
    "print (\"введите ширину комнаты:\")\n",
    "s=float(input())\n",
    "P=d*s\n",
    "C=P*10000\n",
    "print (\"Площадь комнаты,\", end=\"\")\n",
    "print(P, \"м.,т.е.\", C, \"cm\")\n",
    "Prise=P*10\n",
    "print (\"Стоимость ковра составляет:\", Prise, \"dolars\")\n",
    "\n",
    "\n"
   ]
  },
  {
   "cell_type": "code",
   "execution_count": 4,
   "id": "200d5c5d",
   "metadata": {},
   "outputs": [
    {
     "name": "stdout",
     "output_type": "stream",
     "text": [
      "Сколько у вас монет по 50 копеек?\n",
      "2\n",
      "Сколько у вас монет по 10 копеек?\n",
      "2\n",
      "Сколько у вас монет по 5 копеек?\n",
      "2\n",
      "Сколько у вас монет по 1 копейке?\n",
      "2\n",
      "132.0\n"
     ]
    }
   ],
   "source": [
    "print(\"Сколько у вас монет по 50 копеек?\")\n",
    "fifth=float(input())\n",
    "print(\"Сколько у вас монет по 10 копеек?\")\n",
    "ten=float(input())\n",
    "print(\"Сколько у вас монет по 5 копеек?\")\n",
    "five=float(input())\n",
    "print(\"Сколько у вас монет по 1 копейке?\")\n",
    "one=float(input())\n",
    "All=(fifth*50 + ten*10 + five*5 + one)\n",
    "print(All)"
   ]
  },
  {
   "cell_type": "code",
   "execution_count": null,
   "id": "06ecb366",
   "metadata": {},
   "outputs": [],
   "source": []
  }
 ],
 "metadata": {
  "kernelspec": {
   "display_name": "Python 3",
   "language": "python",
   "name": "python3"
  },
  "language_info": {
   "codemirror_mode": {
    "name": "ipython",
    "version": 3
   },
   "file_extension": ".py",
   "mimetype": "text/x-python",
   "name": "python",
   "nbconvert_exporter": "python",
   "pygments_lexer": "ipython3",
   "version": "3.8.8"
  }
 },
 "nbformat": 4,
 "nbformat_minor": 5
}
