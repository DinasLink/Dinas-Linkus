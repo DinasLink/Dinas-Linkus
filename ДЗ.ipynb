{
 "cells": [
  {
   "cell_type": "code",
   "execution_count": 1,
   "id": "8118d72b",
   "metadata": {},
   "outputs": [
    {
     "name": "stdout",
     "output_type": "stream",
     "text": [
      "I like pizza!\n",
      "pizzapizzapizzapizzapizzapizzapizzapizzapizzapizzapizzapizzapizzapizzapizzapizzapizzapizzapizzapizza\n",
      "yumyumyumyumyumyumyumyumyumyumyumyumyumyumyumyumyumyumyumyumyumyumyumyumyumyumyumyumyumyumyumyumyumyumyumyumyumyumyumyum\n",
      "I'm full\n"
     ]
    }
   ],
   "source": [
    "print (\"I like pizza!\")\n",
    "print (\"pizza\" * 20)\n",
    "print (\"yum\" * 40)\n",
    "print (\"I'm full\")"
   ]
  },
  {
   "cell_type": "code",
   "execution_count": 2,
   "id": "c480dce8",
   "metadata": {},
   "outputs": [
    {
     "name": "stdout",
     "output_type": "stream",
     "text": [
      "Меня зовут Динас\n",
      "Мне 40\n"
     ]
    }
   ],
   "source": [
    "print (\"Меня зовут Динас\")\n",
    "print (\"Мне 40\")\n"
   ]
  },
  {
   "cell_type": "code",
   "execution_count": 3,
   "id": "4a4937d2",
   "metadata": {},
   "outputs": [
    {
     "name": "stdout",
     "output_type": "stream",
     "text": [
      "10080\n"
     ]
    }
   ],
   "source": [
    "DaysPerWeek = 7\n",
    "HousPerDay = 24\n",
    "MinutesPerHour = 60\n",
    "print (DaysPerWeek * HousPerDay * MinutesPerHour)"
   ]
  },
  {
   "cell_type": "code",
   "execution_count": 4,
   "id": "895a8d58",
   "metadata": {},
   "outputs": [
    {
     "name": "stdout",
     "output_type": "stream",
     "text": [
      "10920\n"
     ]
    }
   ],
   "source": [
    "DaysPerWeek = 7\n",
    "HousPerDay = HousPerDay + 2\n",
    "MinutesPerHour = 60\n",
    "print (DaysPerWeek * HousPerDay * MinutesPerHour)"
   ]
  },
  {
   "cell_type": "code",
   "execution_count": 5,
   "id": "27306386",
   "metadata": {},
   "outputs": [
    {
     "data": {
      "text/plain": [
       "13.520166666666666"
      ]
     },
     "execution_count": 5,
     "metadata": {},
     "output_type": "execute_result"
    }
   ],
   "source": [
    "35.27*1.15/3"
   ]
  },
  {
   "cell_type": "code",
   "execution_count": 6,
   "id": "9ad1958f",
   "metadata": {},
   "outputs": [
    {
     "data": {
      "text/plain": [
       "208.75"
      ]
     },
     "execution_count": 6,
     "metadata": {},
     "output_type": "execute_result"
    }
   ],
   "source": [
    "12.5*16.7"
   ]
  },
  {
   "cell_type": "code",
   "execution_count": 7,
   "id": "3da046e4",
   "metadata": {},
   "outputs": [
    {
     "data": {
      "text/plain": [
       "58.4"
      ]
     },
     "execution_count": 7,
     "metadata": {},
     "output_type": "execute_result"
    }
   ],
   "source": [
    "(12.5+16.7)*2"
   ]
  },
  {
   "cell_type": "code",
   "execution_count": 3,
   "id": "6c9cf2a7",
   "metadata": {},
   "outputs": [
    {
     "name": "stdout",
     "output_type": "stream",
     "text": [
      "0.0\n"
     ]
    }
   ],
   "source": [
    "F = number\n",
    "C=5/9*(F-32)\n",
    "print (C)"
   ]
  },
  {
   "cell_type": "code",
   "execution_count": 9,
   "id": "57d51e2c",
   "metadata": {},
   "outputs": [
    {
     "name": "stdout",
     "output_type": "stream",
     "text": [
      "2.5\n"
     ]
    }
   ],
   "source": [
    "T=200/80\n",
    "print (T)"
   ]
  },
  {
   "cell_type": "code",
   "execution_count": 4,
   "id": "343001cb",
   "metadata": {},
   "outputs": [
    {
     "data": {
      "text/plain": [
       "12.34"
      ]
     },
     "execution_count": 4,
     "metadata": {},
     "output_type": "execute_result"
    }
   ],
   "source": [
    "a=\"12.34\"\n",
    "b=float(a)\n",
    "b"
   ]
  },
  {
   "cell_type": "code",
   "execution_count": 5,
   "id": "987e02fb",
   "metadata": {},
   "outputs": [
    {
     "data": {
      "text/plain": [
       "56"
      ]
     },
     "execution_count": 5,
     "metadata": {},
     "output_type": "execute_result"
    }
   ],
   "source": [
    "e=56.78\n",
    "f=int(e)\n",
    "f"
   ]
  },
  {
   "cell_type": "code",
   "execution_count": 6,
   "id": "fc2d61e7",
   "metadata": {},
   "outputs": [
    {
     "data": {
      "text/plain": [
       "12"
      ]
     },
     "execution_count": 6,
     "metadata": {},
     "output_type": "execute_result"
    }
   ],
   "source": [
    "a=\"12.5\"\n",
    "b=float(a)\n",
    "c=int(b)\n",
    "c"
   ]
  },
  {
   "cell_type": "code",
   "execution_count": null,
   "id": "3ce03000",
   "metadata": {},
   "outputs": [],
   "source": []
  }
 ],
 "metadata": {
  "kernelspec": {
   "display_name": "Python 3",
   "language": "python",
   "name": "python3"
  },
  "language_info": {
   "codemirror_mode": {
    "name": "ipython",
    "version": 3
   },
   "file_extension": ".py",
   "mimetype": "text/x-python",
   "name": "python",
   "nbconvert_exporter": "python",
   "pygments_lexer": "ipython3",
   "version": "3.8.8"
  }
 },
 "nbformat": 4,
 "nbformat_minor": 5
}
